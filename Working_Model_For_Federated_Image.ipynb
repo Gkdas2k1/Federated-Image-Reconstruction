{
  "nbformat": 4,
  "nbformat_minor": 0,
  "metadata": {
    "colab": {
      "provenance": [],
      "authorship_tag": "ABX9TyMf1lq5C/790m6g7dGw9GzA",
      "include_colab_link": true
    },
    "kernelspec": {
      "name": "python3",
      "display_name": "Python 3"
    },
    "language_info": {
      "name": "python"
    }
  },
  "cells": [
    {
      "cell_type": "markdown",
      "metadata": {
        "id": "view-in-github",
        "colab_type": "text"
      },
      "source": [
        "<a href=\"https://colab.research.google.com/github/Gkdas2k1/Federated-Image-Reconstruction/blob/main/Working_Model_For_Federated_Image.ipynb\" target=\"_parent\"><img src=\"https://colab.research.google.com/assets/colab-badge.svg\" alt=\"Open In Colab\"/></a>"
      ]
    },
    {
      "cell_type": "code",
      "source": [
        "!pip install tensorflow matplotlib numpy pillow scikit-image --quiet"
      ],
      "metadata": {
        "id": "CS2KDWiUYPjT"
      },
      "execution_count": null,
      "outputs": []
    },
    {
      "cell_type": "code",
      "execution_count": null,
      "metadata": {
        "id": "K0rt9VXnYIhy"
      },
      "outputs": [],
      "source": [
        "import numpy as np\n",
        "import cv2\n",
        "import tensorflow as tf\n",
        "from tensorflow.keras import layers, Model\n",
        "from tensorflow.keras.callbacks import ModelCheckpoint, ReduceLROnPlateau\n",
        "from skimage.metrics import peak_signal_noise_ratio as psnr\n",
        "from PIL import Image\n",
        "import io\n",
        "from google.colab import files\n",
        "import os\n",
        "import matplotlib.pyplot as plt\n",
        "%matplotlib inline"
      ]
    },
    {
      "cell_type": "code",
      "source": [
        "# Configurable parameters\n",
        "IMAGE_SIZE = 32  # Increased resolution for better detail\n",
        "BATCH_SIZE = 16   # Reduced for CPU stability\n",
        "EPOCHS = 15       # Increased for convergence\n",
        "\n",
        "def create_autoencoder():\n",
        "    inputs = layers.Input(shape=(IMAGE_SIZE, IMAGE_SIZE, 3))\n",
        "\n",
        "    # Encoder with residual blocks\n",
        "    x = layers.Conv2D(32, (3, 3), activation='relu', padding='same')(inputs)\n",
        "    x = layers.BatchNormalization()(x)\n",
        "    x = layers.MaxPooling2D((2, 2), padding='same')(x)\n",
        "    x = layers.Conv2D(64, (3, 3), activation='relu', padding='same')(x)\n",
        "    x = layers.BatchNormalization()(x)\n",
        "    encoded = layers.MaxPooling2D((2, 2), padding='same')(x)\n",
        "\n",
        "    # Decoder with skip connections\n",
        "    x = layers.Conv2DTranspose(64, (3, 3), strides=2, activation='relu', padding='same')(encoded)\n",
        "    x = layers.BatchNormalization()(x)\n",
        "    x = layers.Concatenate()([x, layers.UpSampling2D()(layers.Conv2D(64, (3, 3), activation='relu', padding='same')(inputs))])\n",
        "    x = layers.Conv2DTranspose(32, (3, 3), strides=2, activation='relu', padding='same')(x)\n",
        "    decoded = layers.Conv2D(3, (3, 3), activation='sigmoid', padding='same')(x)\n",
        "\n",
        "    autoencoder = Model(inputs, decoded)\n",
        "    autoencoder.compile(optimizer='adam', loss='mse')\n",
        "    return autoencoder"
      ],
      "metadata": {
        "id": "PkELRKnzYect"
      },
      "execution_count": null,
      "outputs": []
    },
    {
      "cell_type": "code",
      "source": [
        "def train_autoencoder():\n",
        "    # Load CIFAR-10 dataset (use larger resolution)\n",
        "    (x_train, _), (x_test, _) = tf.keras.datasets.cifar10.load_data()\n",
        "\n",
        "    # Resize to 64x64\n",
        "    x_train = tf.image.resize(x_train.astype('float32') / 255.0, [IMAGE_SIZE, IMAGE_SIZE]).numpy()\n",
        "    x_test = tf.image.resize(x_test.astype('float32') / 255.0, [IMAGE_SIZE, IMAGE_SIZE]).numpy()\n",
        "\n",
        "    # Create datasets with noise injection\n",
        "    def add_noise(image):\n",
        "        noise_factor = 0.15  # Increased noise for robustness\n",
        "        noise = tf.random.normal(shape=tf.shape(image), mean=0.0, stddev=noise_factor)\n",
        "        return tf.clip_by_value(image + noise, 0.0, 1.0), image\n",
        "\n",
        "    train_ds = (\n",
        "        tf.data.Dataset.from_tensor_slices(x_train)\n",
        "        .map(add_noise, num_parallel_calls=tf.data.AUTOTUNE)\n",
        "        .shuffle(10000)\n",
        "        .batch(BATCH_SIZE)\n",
        "        .prefetch(tf.data.AUTOTUNE)\n",
        "    )\n",
        "\n",
        "    test_ds = (\n",
        "        tf.data.Dataset.from_tensor_slices(x_test)\n",
        "        .map(add_noise, num_parallel_calls=tf.data.AUTOTUNE)\n",
        "        .batch(BATCH_SIZE)\n",
        "        .prefetch(tf.data.AUTOTUNE)\n",
        "    )\n",
        "\n",
        "    # Build and compile model\n",
        "    autoencoder = create_autoencoder()\n",
        "    checkpoint = ModelCheckpoint(\n",
        "        'best_denoiser.h5',\n",
        "        monitor='val_loss',\n",
        "        save_best_only=True,\n",
        "        mode='min'\n",
        "    )\n",
        "    reduce_lr = ReduceLROnPlateau(monitor='val_loss', patience=3, factor=0.5, min_lr=1e-6)\n",
        "\n",
        "    # Train model\n",
        "    history = autoencoder.fit(\n",
        "        train_ds,\n",
        "        epochs=EPOCHS,\n",
        "        validation_data=test_ds,\n",
        "        callbacks=[checkpoint, reduce_lr],\n",
        "        verbose=1\n",
        "    )\n",
        "\n",
        "    return autoencoder"
      ],
      "metadata": {
        "id": "g2JTr8K0Yg42"
      },
      "execution_count": null,
      "outputs": []
    },
    {
      "cell_type": "code",
      "source": [
        "def load_or_train_model():\n",
        "    if os.path.exists('best_denoiser.h5'):\n",
        "        print(\"✅ Loading pre-trained model...\")\n",
        "        # Explicitly specify the 'mse' loss function during loading\n",
        "        return tf.keras.models.load_model('best_denoiser.h5', custom_objects={'mse': tf.keras.losses.MeanSquaredError()})\n",
        "    else:\n",
        "        print(\"⚠️ No saved model found. Training new model...\")\n",
        "        return train_autoencoder()"
      ],
      "metadata": {
        "id": "EQDD2h1kdHOG"
      },
      "execution_count": null,
      "outputs": []
    },
    {
      "cell_type": "code",
      "source": [
        "def add_gaussian_noise(image, sigma=30):  # Increased noise level\n",
        "    return np.clip(image + np.random.normal(0, sigma, image.shape), 0, 255).astype(np.uint8)\n",
        "\n",
        "def add_dp_noise(image, epsilon=0.5, delta=1e-5):  # Reduced epsilon for less noise\n",
        "    sensitivity = 255 * np.sqrt(3)\n",
        "    sigma = sensitivity * np.sqrt(2 * np.log(1.25 / delta)) / epsilon\n",
        "    noise = np.random.normal(0, sigma, image.shape)\n",
        "    return np.clip(image + noise, 0, 255).astype(np.uint8)"
      ],
      "metadata": {
        "id": "wcmBpJ-IYiag"
      },
      "execution_count": null,
      "outputs": []
    },
    {
      "cell_type": "code",
      "source": [
        "def upload_image():\n",
        "    uploaded = files.upload()\n",
        "    img_path = next(iter(uploaded))\n",
        "    img = Image.open(io.BytesIO(uploaded[img_path])).convert(\"RGB\")\n",
        "    img = img.resize((IMAGE_SIZE, IMAGE_SIZE), Image.BICUBIC)\n",
        "    return np.array(img)"
      ],
      "metadata": {
        "id": "QgRhvWpZdLhT"
      },
      "execution_count": null,
      "outputs": []
    },
    {
      "cell_type": "code",
      "source": [
        "def prepare_input(img):\n",
        "    return tf.expand_dims(img.astype('float32') / 255., axis=0)\n",
        "\n",
        "def reconstruct(noisy_img):\n",
        "    processed = prepare_input(noisy_img)\n",
        "    reconstructed = autoencoder.predict(processed)[0]\n",
        "    return (reconstructed * 255).clip(0, 255).astype(np.uint8)"
      ],
      "metadata": {
        "id": "bi5o_y8BdQjo"
      },
      "execution_count": null,
      "outputs": []
    },
    {
      "cell_type": "code",
      "source": [
        "# Main execution flow\n",
        "autoencoder = load_or_train_model()\n",
        "\n",
        "original = upload_image()\n",
        "noisy = add_gaussian_noise(original)\n",
        "denoised = cv2.GaussianBlur(noisy, (5,5), 1.0)\n",
        "dp_version = add_dp_noise(original)\n",
        "\n",
        "reconstructions = {\n",
        "    \"Noisy Input\": noisy,\n",
        "    \"Denoised (Gaussian Blur)\": denoised,\n",
        "    \"DP Version Input\": dp_version,\n",
        "    \"Reconstructed (Noisy)\": reconstruct(noisy),\n",
        "    \"Reconstructed (DP)\": reconstruct(dp_version)\n",
        "}"
      ],
      "metadata": {
        "id": "J8691ce9Yj5C",
        "colab": {
          "base_uri": "https://localhost:8080/",
          "height": 146
        },
        "outputId": "68908fce-0a1a-4fdd-ce1d-2049ace2c6ef"
      },
      "execution_count": null,
      "outputs": [
        {
          "output_type": "stream",
          "name": "stderr",
          "text": [
            "WARNING:absl:Compiled the loaded model, but the compiled metrics have yet to be built. `model.compile_metrics` will be empty until you train or evaluate the model.\n"
          ]
        },
        {
          "output_type": "stream",
          "name": "stdout",
          "text": [
            "✅ Loading pre-trained model...\n"
          ]
        },
        {
          "output_type": "display_data",
          "data": {
            "text/plain": [
              "<IPython.core.display.HTML object>"
            ],
            "text/html": [
              "\n",
              "     <input type=\"file\" id=\"files-95cffcf2-68c1-400a-9a11-28e102dc00a0\" name=\"files[]\" multiple disabled\n",
              "        style=\"border:none\" />\n",
              "     <output id=\"result-95cffcf2-68c1-400a-9a11-28e102dc00a0\">\n",
              "      Upload widget is only available when the cell has been executed in the\n",
              "      current browser session. Please rerun this cell to enable.\n",
              "      </output>\n",
              "      <script>// Copyright 2017 Google LLC\n",
              "//\n",
              "// Licensed under the Apache License, Version 2.0 (the \"License\");\n",
              "// you may not use this file except in compliance with the License.\n",
              "// You may obtain a copy of the License at\n",
              "//\n",
              "//      http://www.apache.org/licenses/LICENSE-2.0\n",
              "//\n",
              "// Unless required by applicable law or agreed to in writing, software\n",
              "// distributed under the License is distributed on an \"AS IS\" BASIS,\n",
              "// WITHOUT WARRANTIES OR CONDITIONS OF ANY KIND, either express or implied.\n",
              "// See the License for the specific language governing permissions and\n",
              "// limitations under the License.\n",
              "\n",
              "/**\n",
              " * @fileoverview Helpers for google.colab Python module.\n",
              " */\n",
              "(function(scope) {\n",
              "function span(text, styleAttributes = {}) {\n",
              "  const element = document.createElement('span');\n",
              "  element.textContent = text;\n",
              "  for (const key of Object.keys(styleAttributes)) {\n",
              "    element.style[key] = styleAttributes[key];\n",
              "  }\n",
              "  return element;\n",
              "}\n",
              "\n",
              "// Max number of bytes which will be uploaded at a time.\n",
              "const MAX_PAYLOAD_SIZE = 100 * 1024;\n",
              "\n",
              "function _uploadFiles(inputId, outputId) {\n",
              "  const steps = uploadFilesStep(inputId, outputId);\n",
              "  const outputElement = document.getElementById(outputId);\n",
              "  // Cache steps on the outputElement to make it available for the next call\n",
              "  // to uploadFilesContinue from Python.\n",
              "  outputElement.steps = steps;\n",
              "\n",
              "  return _uploadFilesContinue(outputId);\n",
              "}\n",
              "\n",
              "// This is roughly an async generator (not supported in the browser yet),\n",
              "// where there are multiple asynchronous steps and the Python side is going\n",
              "// to poll for completion of each step.\n",
              "// This uses a Promise to block the python side on completion of each step,\n",
              "// then passes the result of the previous step as the input to the next step.\n",
              "function _uploadFilesContinue(outputId) {\n",
              "  const outputElement = document.getElementById(outputId);\n",
              "  const steps = outputElement.steps;\n",
              "\n",
              "  const next = steps.next(outputElement.lastPromiseValue);\n",
              "  return Promise.resolve(next.value.promise).then((value) => {\n",
              "    // Cache the last promise value to make it available to the next\n",
              "    // step of the generator.\n",
              "    outputElement.lastPromiseValue = value;\n",
              "    return next.value.response;\n",
              "  });\n",
              "}\n",
              "\n",
              "/**\n",
              " * Generator function which is called between each async step of the upload\n",
              " * process.\n",
              " * @param {string} inputId Element ID of the input file picker element.\n",
              " * @param {string} outputId Element ID of the output display.\n",
              " * @return {!Iterable<!Object>} Iterable of next steps.\n",
              " */\n",
              "function* uploadFilesStep(inputId, outputId) {\n",
              "  const inputElement = document.getElementById(inputId);\n",
              "  inputElement.disabled = false;\n",
              "\n",
              "  const outputElement = document.getElementById(outputId);\n",
              "  outputElement.innerHTML = '';\n",
              "\n",
              "  const pickedPromise = new Promise((resolve) => {\n",
              "    inputElement.addEventListener('change', (e) => {\n",
              "      resolve(e.target.files);\n",
              "    });\n",
              "  });\n",
              "\n",
              "  const cancel = document.createElement('button');\n",
              "  inputElement.parentElement.appendChild(cancel);\n",
              "  cancel.textContent = 'Cancel upload';\n",
              "  const cancelPromise = new Promise((resolve) => {\n",
              "    cancel.onclick = () => {\n",
              "      resolve(null);\n",
              "    };\n",
              "  });\n",
              "\n",
              "  // Wait for the user to pick the files.\n",
              "  const files = yield {\n",
              "    promise: Promise.race([pickedPromise, cancelPromise]),\n",
              "    response: {\n",
              "      action: 'starting',\n",
              "    }\n",
              "  };\n",
              "\n",
              "  cancel.remove();\n",
              "\n",
              "  // Disable the input element since further picks are not allowed.\n",
              "  inputElement.disabled = true;\n",
              "\n",
              "  if (!files) {\n",
              "    return {\n",
              "      response: {\n",
              "        action: 'complete',\n",
              "      }\n",
              "    };\n",
              "  }\n",
              "\n",
              "  for (const file of files) {\n",
              "    const li = document.createElement('li');\n",
              "    li.append(span(file.name, {fontWeight: 'bold'}));\n",
              "    li.append(span(\n",
              "        `(${file.type || 'n/a'}) - ${file.size} bytes, ` +\n",
              "        `last modified: ${\n",
              "            file.lastModifiedDate ? file.lastModifiedDate.toLocaleDateString() :\n",
              "                                    'n/a'} - `));\n",
              "    const percent = span('0% done');\n",
              "    li.appendChild(percent);\n",
              "\n",
              "    outputElement.appendChild(li);\n",
              "\n",
              "    const fileDataPromise = new Promise((resolve) => {\n",
              "      const reader = new FileReader();\n",
              "      reader.onload = (e) => {\n",
              "        resolve(e.target.result);\n",
              "      };\n",
              "      reader.readAsArrayBuffer(file);\n",
              "    });\n",
              "    // Wait for the data to be ready.\n",
              "    let fileData = yield {\n",
              "      promise: fileDataPromise,\n",
              "      response: {\n",
              "        action: 'continue',\n",
              "      }\n",
              "    };\n",
              "\n",
              "    // Use a chunked sending to avoid message size limits. See b/62115660.\n",
              "    let position = 0;\n",
              "    do {\n",
              "      const length = Math.min(fileData.byteLength - position, MAX_PAYLOAD_SIZE);\n",
              "      const chunk = new Uint8Array(fileData, position, length);\n",
              "      position += length;\n",
              "\n",
              "      const base64 = btoa(String.fromCharCode.apply(null, chunk));\n",
              "      yield {\n",
              "        response: {\n",
              "          action: 'append',\n",
              "          file: file.name,\n",
              "          data: base64,\n",
              "        },\n",
              "      };\n",
              "\n",
              "      let percentDone = fileData.byteLength === 0 ?\n",
              "          100 :\n",
              "          Math.round((position / fileData.byteLength) * 100);\n",
              "      percent.textContent = `${percentDone}% done`;\n",
              "\n",
              "    } while (position < fileData.byteLength);\n",
              "  }\n",
              "\n",
              "  // All done.\n",
              "  yield {\n",
              "    response: {\n",
              "      action: 'complete',\n",
              "    }\n",
              "  };\n",
              "}\n",
              "\n",
              "scope.google = scope.google || {};\n",
              "scope.google.colab = scope.google.colab || {};\n",
              "scope.google.colab._files = {\n",
              "  _uploadFiles,\n",
              "  _uploadFilesContinue,\n",
              "};\n",
              "})(self);\n",
              "</script> "
            ]
          },
          "metadata": {}
        },
        {
          "output_type": "stream",
          "name": "stdout",
          "text": [
            "Saving download.jpg to download (1).jpg\n",
            "\u001b[1m1/1\u001b[0m \u001b[32m━━━━━━━━━━━━━━━━━━━━\u001b[0m\u001b[37m\u001b[0m \u001b[1m1s\u001b[0m 1s/step\n",
            "\u001b[1m1/1\u001b[0m \u001b[32m━━━━━━━━━━━━━━━━━━━━\u001b[0m\u001b[37m\u001b[0m \u001b[1m0s\u001b[0m 200ms/step\n"
          ]
        }
      ]
    },
    {
      "cell_type": "code",
      "source": [
        "# Visualization\n",
        "plt.figure(figsize=(12, 8))\n",
        "for i, (title, img) in enumerate(reconstructions.items()):\n",
        "    plt.subplot(2, 3, i+1)\n",
        "    plt.imshow(img)\n",
        "    plt.title(f\"{title}\\nPSNR: {psnr(original, img):.2f} dB\")\n",
        "    plt.axis('off')\n",
        "\n",
        "plt.tight_layout()\n",
        "plt.show()"
      ],
      "metadata": {
        "colab": {
          "base_uri": "https://localhost:8080/",
          "height": 810
        },
        "id": "UJAkZz80VuVb",
        "outputId": "44084be2-17e6-431f-e020-0832a45f6b7f"
      },
      "execution_count": null,
      "outputs": [
        {
          "output_type": "display_data",
          "data": {
            "text/plain": [
              "<Figure size 1200x800 with 5 Axes>"
            ],
            "image/png": "[encoded data removed]"
          },
          "metadata": {}
        }
      ]
    }
  ]
}